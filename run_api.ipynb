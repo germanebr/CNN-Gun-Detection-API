{
 "cells": [
  {
   "cell_type": "code",
   "execution_count": 1,
   "id": "8e776346",
   "metadata": {},
   "outputs": [],
   "source": [
    "import os\n",
    "from app import app\n",
    "import urllib.request\n",
    "from flask import Flask, flash, request, redirect, url_for, render_template\n",
    "from werkzeug.utils import secure_filename\n",
    "import shutil"
   ]
  },
  {
   "cell_type": "code",
   "execution_count": 2,
   "id": "e41bfa8c",
   "metadata": {},
   "outputs": [],
   "source": [
    "@app.route('/')\n",
    "def upload_form():\n",
    "\treturn render_template('index2.html')"
   ]
  },
  {
   "cell_type": "code",
   "execution_count": 3,
   "id": "63d84db9",
   "metadata": {},
   "outputs": [],
   "source": [
    "@app.route('/', methods=['POST'])\n",
    "def upload_video():\n",
    "\tif 'file' not in request.files:\n",
    "\t\tflash('No file part')\n",
    "\t\treturn redirect(request.url)\n",
    "\tfile = request.files['file']\n",
    "\tif file.filename == '':\n",
    "\t\tflash('No image selected for uploading')\n",
    "\t\treturn redirect(request.url)\n",
    "\telse:\n",
    "\t\tfilename = secure_filename(file.filename)\n",
    "\t\tfile.save(os.path.join(app.config['UPLOAD_FOLDER'], filename))\n",
    "\t\t#print('upload_video filename: ' + filename)\n",
    "\t\tflash('Video successfully uploaded and displayed below')\n",
    "\t\treturn render_template('index2.html', filename=filename)"
   ]
  },
  {
   "cell_type": "code",
   "execution_count": 4,
   "id": "c7a36912",
   "metadata": {},
   "outputs": [],
   "source": [
    "@app.route('/display/<filename>')\n",
    "def display_video(filename):\n",
    "\t#print('display_video filename: ' + filename)\n",
    "\treturn redirect(url_for('static', filename='uploads/' + filename), code=301)"
   ]
  },
  {
   "cell_type": "code",
   "execution_count": null,
   "id": "6c25359a",
   "metadata": {
    "scrolled": true
   },
   "outputs": [
    {
     "name": "stdout",
     "output_type": "stream",
     "text": [
      " * Serving Flask app 'app' (lazy loading)\n",
      " * Environment: production\n",
      "\u001b[31m   WARNING: This is a development server. Do not use it in a production deployment.\u001b[0m\n",
      "\u001b[2m   Use a production WSGI server instead.\u001b[0m\n",
      " * Debug mode: off\n"
     ]
    },
    {
     "name": "stderr",
     "output_type": "stream",
     "text": [
      " * Running on http://127.0.0.1:5000/ (Press CTRL+C to quit)\n",
      "127.0.0.1 - - [07/Dec/2022 14:33:27] \"GET / HTTP/1.1\" 200 -\n"
     ]
    }
   ],
   "source": [
    "if __name__ == \"__main__\":\n",
    "    app.run()"
   ]
  },
  {
   "cell_type": "code",
   "execution_count": null,
   "id": "f24c76f2",
   "metadata": {},
   "outputs": [],
   "source": []
  }
 ],
 "metadata": {
  "kernelspec": {
   "display_name": "Python 3 (ipykernel)",
   "language": "python",
   "name": "python3"
  },
  "language_info": {
   "codemirror_mode": {
    "name": "ipython",
    "version": 3
   },
   "file_extension": ".py",
   "mimetype": "text/x-python",
   "name": "python",
   "nbconvert_exporter": "python",
   "pygments_lexer": "ipython3",
   "version": "3.7.13"
  }
 },
 "nbformat": 4,
 "nbformat_minor": 5
}
